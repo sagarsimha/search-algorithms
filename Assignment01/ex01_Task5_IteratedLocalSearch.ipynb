{
 "cells": [
  {
   "cell_type": "markdown",
   "metadata": {},
   "source": [
    "# Search Based Software Engineering\n",
    "## Exercise 01 , Task5 -  Iterated Local Search on Traveling Salesman Problem\n",
    "### Team: \n",
    "### 1. Sagar Nagaraj Simha - sagar.nagaraj.simha[at]uni-weimar.de\n",
    "####     Matrikel Nummer - 120797, Degree - Master's Computer Science for Digital Media\n",
    "### 2. Mohd Saif Khan - mohd.saif.khan[at]uni-weimar.de \n",
    "####     Matrikel Nummer - 120803, Degree - Master's Human Computer Interaction"
   ]
  },
  {
   "cell_type": "code",
   "execution_count": 28,
   "metadata": {},
   "outputs": [],
   "source": [
    "#Imports\n",
    "import cmath\n",
    "import math\n",
    "from itertools import permutations\n",
    "import datetime"
   ]
  },
  {
   "cell_type": "code",
   "execution_count": 29,
   "metadata": {},
   "outputs": [],
   "source": [
    "def distance(p1, p2):\n",
    "    \"\"\"\n",
    "    Returns the Euclidean distance of two points in the Cartesian Plane.\n",
    "\n",
    "    >>> distance([3,4],[0,0])\n",
    "    5.0\n",
    "    \n",
    "    \"\"\"\n",
    "    return ((p1[0] - p2[0])**2 + (p1[1] - p2[1])**2) ** 0.5"
   ]
  },
  {
   "cell_type": "code",
   "execution_count": 30,
   "metadata": {},
   "outputs": [],
   "source": [
    "def total_distance(points):\n",
    "    \"\"\"\n",
    "    Returns the length of the path passing throught\n",
    "    all the points in the given order.\n",
    "\n",
    "    >>> total_distance([[1,2],[4,6]])\n",
    "    5.0\n",
    "    >>> total_distance([[3,6],[7,6],[12,6]])\n",
    "    9.0\n",
    "    \"\"\"\n",
    "    return sum([distance(point, points[index + 1]) for index, point in enumerate(points[:-1])])"
   ]
  },
  {
   "cell_type": "markdown",
   "metadata": {},
   "source": [
    "#### Adjacency Matrix"
   ]
  },
  {
   "cell_type": "markdown",
   "metadata": {},
   "source": [
    "We also need to specify a \"distance matrix\" that we can use to keep track of distances between cities. To generate a distance matrix for a set of (x,y) coordinates we will use the following function:"
   ]
  },
  {
   "cell_type": "code",
   "execution_count": 31,
   "metadata": {},
   "outputs": [],
   "source": [
    "def cartesian_matrix(coordinates):\n",
    "    '''\n",
    "    Creates a distance matrix for the city coords using straight line distances\n",
    "    computed by the Euclidean distance of two points in the Cartesian Plane.\n",
    "    '''\n",
    "    matrix = {}\n",
    "    for i, p1 in enumerate(coordinates):\n",
    "        for j, p2 in enumerate(coordinates):\n",
    "            matrix[i,j] = distance(p1,p2)\n",
    "    return matrix"
   ]
  },
  {
   "cell_type": "markdown",
   "metadata": {},
   "source": [
    "This function takes a list of (x,y) tuples and outputs a dictionary that contains the distance between any pair of cities:"
   ]
  },
  {
   "cell_type": "markdown",
   "metadata": {},
   "source": [
    "#### Read City Coordinates from File"
   ]
  },
  {
   "cell_type": "code",
   "execution_count": 32,
   "metadata": {},
   "outputs": [],
   "source": [
    "def read_coords(file_handle):\n",
    "    coords = []\n",
    "    for line in file_handle:\n",
    "        x,y = line.strip().split(',')\n",
    "        coords.append((float(x), float(y)))\n",
    "    return coords\n",
    "\n",
    "with open('city100.txt', 'r') as coord_file:\n",
    "    coords = read_coords(coord_file)\n",
    "matrix = cartesian_matrix(coords)"
   ]
  },
  {
   "cell_type": "markdown",
   "metadata": {},
   "source": [
    "On real world problems it may be more complicated to generate a distance matrix - you might need to take a map and calculate the real distances between cities."
   ]
  },
  {
   "cell_type": "markdown",
   "metadata": {},
   "source": [
    "#### Compute the Total Distance"
   ]
  },
  {
   "cell_type": "code",
   "execution_count": 33,
   "metadata": {},
   "outputs": [],
   "source": [
    "def tour_length(matrix, tour):\n",
    "    \"\"\"Sum up the total length of the tour based on the distance matrix\"\"\"\n",
    "    result = 0\n",
    "    num_cities = len(list(tour))\n",
    "    for i in range(num_cities):\n",
    "        j = (i+1) % num_cities\n",
    "        city_i = tour[i]\n",
    "        city_j = tour[j]\n",
    "        result += matrix[city_i, city_j]\n",
    "    return result"
   ]
  },
  {
   "cell_type": "markdown",
   "metadata": {},
   "source": [
    "#### Implementing Tweak Operators"
   ]
  },
  {
   "cell_type": "markdown",
   "metadata": {},
   "source": [
    "We will implement the two tweak operators as generator functions that will return all possible versions of a route that can be made in one step of the generator (in a random order)."
   ]
  },
  {
   "cell_type": "markdown",
   "metadata": {},
   "source": [
    "Generators are iterators which can be only iterated once.\n",
    "They generate values on the fly and do not store them in memory.\n",
    "By using a generator function, we can get each possiblility and perhaps decide to not generate any more variations.\n",
    "This saves the overhead of generating all combinations at once."
   ]
  },
  {
   "cell_type": "code",
   "execution_count": 34,
   "metadata": {},
   "outputs": [],
   "source": [
    "import random\n",
    "\n",
    "def all_pairs(size, shuffle = random.shuffle):\n",
    "    r1 = list(range(size))\n",
    "    r2 = list(range(size))\n",
    "    if shuffle:\n",
    "        shuffle(r1)\n",
    "        shuffle(r2)\n",
    "    for i in r1:\n",
    "        for j in r2:\n",
    "            yield(i,j) # yield is an iterator function\n",
    "            # for each call of the generator it returns the next value in yield"
   ]
  },
  {
   "cell_type": "code",
   "execution_count": 35,
   "metadata": {
    "scrolled": true
   },
   "outputs": [
    {
     "name": "stdout",
     "output_type": "stream",
     "text": [
      "start tour swap: [1, 2, 3, 4]\n",
      "[2, 1, 3, 4]\n",
      "[3, 2, 1, 4]\n",
      "[4, 2, 3, 1]\n",
      "[1, 2, 4, 3]\n",
      "[1, 3, 2, 4]\n",
      "[1, 4, 3, 2]\n",
      "\n",
      "start tour reverse section: [1, 2, 3, 4]\n",
      "[1, 3, 2, 4]\n",
      "[4, 3, 1, 2]\n",
      "[1, 4, 3, 2]\n",
      "[3, 4, 2, 1]\n",
      "[2, 3, 4, 1]\n",
      "[3, 2, 1, 4]\n",
      "[2, 1, 3, 4]\n",
      "[4, 3, 2, 1]\n",
      "[4, 1, 2, 3]\n",
      "[4, 2, 3, 1]\n",
      "[1, 2, 4, 3]\n"
     ]
    }
   ],
   "source": [
    "from copy import deepcopy\n",
    "\n",
    "# Tweak 1\n",
    "def swapped_cities(tour):\n",
    "    \"\"\"\n",
    "    Generator to create all possible variations where two \n",
    "    cities have been swapped\n",
    "    \"\"\"\n",
    "    ap = all_pairs(len(tour))\n",
    "    for i,j in ap:\n",
    "        if i < j:\n",
    "            copy = deepcopy(tour)\n",
    "            copy[i], copy[j] = tour[j], tour[i]\n",
    "            yield copy\n",
    "\n",
    "# Tweak 2\n",
    "def reversed_sections(tour):\n",
    "    \"\"\"\n",
    "    Generator to return all possible variations where the\n",
    "    section between two cities are swapped.\n",
    "    It preserves entire sections of a route,\n",
    "    yet still affects the ordering of multiple cities in one go.\n",
    "    \"\"\"\n",
    "    ap = all_pairs(len(tour))\n",
    "    for i,j in ap:\n",
    "        if i != j:\n",
    "            #print(\"indices from:\",i, \"to\", j)\n",
    "            copy = deepcopy(tour)\n",
    "            if i < j:\n",
    "                copy[i:j+1] = reversed(tour[i:j+1])\n",
    "            else:\n",
    "                copy[i+1:] = reversed(tour[:j])\n",
    "                copy[:j] = reversed(tour[i+1:])\n",
    "            if copy != tour: # not returning same tour\n",
    "                yield copy\n",
    "# usage\n",
    "print(\"start tour swap:\",[1,2,3,4])\n",
    "for tour in swapped_cities([1,2,3,4]):\n",
    "    print(tour)\n",
    "print()\n",
    "print(\"start tour reverse section:\",[1,2,3,4])\n",
    "for tour in reversed_sections([1,2,3,4]):\n",
    "    print(tour)"
   ]
  },
  {
   "cell_type": "code",
   "execution_count": 36,
   "metadata": {},
   "outputs": [],
   "source": [
    "# Reverse city sections - Another Tweak Operator"
   ]
  },
  {
   "cell_type": "code",
   "execution_count": 37,
   "metadata": {},
   "outputs": [],
   "source": [
    "import random\n",
    "import numpy as np\n",
    "import copy\n",
    "\n",
    "def rev_city(tour):\n",
    "    new_tour = copy.deepcopy(tour)\n",
    "    i = random.randint(0,len(tour))\n",
    "    j = random.randint(0,len(tour))\n",
    "    if(i!=j):\n",
    "        new_tour[min(i,j) : max(i,j)] = tour[min(i,j) : max(i,j)][::-1]\n",
    "    return new_tour"
   ]
  },
  {
   "cell_type": "code",
   "execution_count": 38,
   "metadata": {},
   "outputs": [
    {
     "name": "stdout",
     "output_type": "stream",
     "text": [
      "[0, 1, 2, 3, 4, 5, 6, 7, 8, 9, 10, 11, 12, 13, 14, 15, 16, 17, 18, 19]\n",
      "[19, 18, 17, 16, 15, 14, 13, 12, 11, 10, 9, 8, 7, 6, 5, 4, 3, 2, 1, 0]\n"
     ]
    }
   ],
   "source": [
    "#Example\n",
    "tour = [i for i in range(20)]\n",
    "print(tour)\n",
    "print(tour[::-1])"
   ]
  },
  {
   "cell_type": "code",
   "execution_count": 39,
   "metadata": {},
   "outputs": [
    {
     "name": "stdout",
     "output_type": "stream",
     "text": [
      "[7, 6, 5, 4, 3, 2, 1, 0, 8, 9, 10, 11, 12, 13, 14, 15, 16, 17, 18, 19]\n"
     ]
    }
   ],
   "source": [
    "#Example\n",
    "test = rev_city(tour)\n",
    "print(test)"
   ]
  },
  {
   "cell_type": "code",
   "execution_count": 40,
   "metadata": {},
   "outputs": [],
   "source": [
    "def init_random_tour(tour_length):\n",
    "    tour = list(range(tour_length))\n",
    "    random.shuffle(list(tour))\n",
    "    return tour\n",
    "\n",
    "init_function = lambda: init_random_tour(len(coords))\n",
    "objective_function = lambda tour: tour_length(matrix, tour)"
   ]
  },
  {
   "cell_type": "code",
   "execution_count": 41,
   "metadata": {},
   "outputs": [],
   "source": [
    "# n(n+1)/2 = timefactor. We need to find n of the series(1+2+3+...+n) = timefactor\n",
    "# Solving the quadratic equation ax**2 + bx + c = 0\n",
    "# n**2+n - 2*timefactor = 0\n",
    "    \n",
    "def SolutionToQuadraticEquation(timefactor):\n",
    "    a=1\n",
    "    b=1\n",
    "    c=-2*timefactor\n",
    "    \n",
    "    # calculate the discriminant\n",
    "    d = (b**2) - (4*a*c)\n",
    "\n",
    "    # find two solutions\n",
    "    sol1 = (-b-cmath.sqrt(d))/(2*a)\n",
    "    sol1_r = sol1.real\n",
    "    sol2 = (-b+cmath.sqrt(d))/(2*a)\n",
    "    sol2_r = sol2.real\n",
    "\n",
    "    if ((sol1_r>0) | (sol1_r==0)):\n",
    "        return (math.ceil(sol1_r))\n",
    "    elif ((sol2_r>0) | (sol2_r==0)):\n",
    "        return (math.ceil(sol2_r))"
   ]
  },
  {
   "cell_type": "code",
   "execution_count": 42,
   "metadata": {},
   "outputs": [
    {
     "data": {
      "text/plain": [
       "7"
      ]
     },
     "execution_count": 42,
     "metadata": {},
     "output_type": "execute_result"
    }
   ],
   "source": [
    "#Example\n",
    "SolutionToQuadraticEquation(28) # 28 (Timefactor) is the sum of n numbers in 1+2+3+4+...+n. The result is n"
   ]
  },
  {
   "cell_type": "code",
   "execution_count": 43,
   "metadata": {},
   "outputs": [],
   "source": [
    "# The function returns a list of random time intervals/slots all amounting close to the max evaluations\n",
    "\n",
    "def TimeSlots(min_eval_per_timeslot, desired_max_evaluations):\n",
    "    T=[]\n",
    "    timefactor = int(desired_max_evaluations/min_eval_per_timeslot) \n",
    "    \n",
    "    # We need to find number of slots whose multiple with timefactor gives number of evaluations in that slot, so that the total time is around Max_Evaluations\n",
    "    # number of slots is n in [1+2+3+...+n] = n(n+1)/2 = timefactor \n",
    "    number_of_slots = SolutionToQuadraticEquation(timefactor) \n",
    "    #Create timeslots with min eval per cycle\n",
    "    for i in range(number_of_slots):\n",
    "        T.append((i+1)*min_eval_per_timeslot)\n",
    "    random.shuffle(T)\n",
    "    return T, sum(T)"
   ]
  },
  {
   "cell_type": "code",
   "execution_count": 44,
   "metadata": {},
   "outputs": [
    {
     "name": "stdout",
     "output_type": "stream",
     "text": [
      "The time slots are\n",
      "[1700, 5100, 7200, 3300, 4900, 8000, 3800, 8800, 2300, 7600, 4400, 2600, 6400, 1500, 3900, 5900, 4100, 4800, 1100, 6900, 8100, 100, 5000, 4500, 6100, 2500, 4600, 1400, 5500, 4300, 9200, 7100, 7700, 3000, 3500, 10000, 6800, 700, 5600, 8200, 2900, 1800, 9300, 7800, 4200, 8700, 5200, 800, 8400, 3100, 500, 2800, 8500, 2000, 3200, 7900, 3700, 2400, 4700, 1000, 9900, 2100, 1600, 9600, 1200, 4000, 1300, 5800, 8300, 7500, 7000, 5400, 400, 9800, 1900, 200, 9000, 2700, 6300, 300, 6500, 8600, 6200, 900, 6700, 3600, 9500, 3400, 9100, 2200, 9400, 7400, 5700, 8900, 6600, 5300, 600, 6000, 7300, 9700]\n",
      "The function 'TimeSlots' will return a list of random time intervals where each is a multiple of min_eval_per_timeslot. The Total Number of evaluations amount to Totalevals_apprxTimeslots(this value would be slightly larger than desired_max_evaluations due to rounding off in the stage of finding 'n' in Quadratic equation)\n",
      "505000\n"
     ]
    }
   ],
   "source": [
    "# Example\n",
    "min_eval_per_timeslot = 100\n",
    "desired_max_evaluations = 500000\n",
    "timeslots_, Totalevals_apprxTimeslots = TimeSlots(min_eval_per_timeslot,desired_max_evaluations)\n",
    "print(\"The time slots are\")\n",
    "print(timeslots_)\n",
    "print(\"The function 'TimeSlots' will return a list of random time intervals where each is a multiple of min_eval_per_timeslot. The Total Number of evaluations amount to Totalevals_apprxTimeslots(this value would be slightly larger than desired_max_evaluations due to rounding off in the stage of finding 'n' in Quadratic equation)\")\n",
    "print(Totalevals_apprxTimeslots)"
   ]
  },
  {
   "cell_type": "code",
   "execution_count": 45,
   "metadata": {},
   "outputs": [],
   "source": [
    "#NewHomeBase\n",
    "\n",
    "#The NewHomeBase should lie somewhere between the extremes of RandomWalk and Hill Climbing when considering among local optima\n",
    "\n",
    "def NewHomeBase(h,h_score,s,s_score):    \n",
    "    if(random.random() < 0.5): #[0,1]\n",
    "        if(s_score <= h_score):\n",
    "            return s, s_score\n",
    "        else:\n",
    "            return h, h_score\n",
    "    else:\n",
    "        return s, s_score"
   ]
  },
  {
   "cell_type": "code",
   "execution_count": 46,
   "metadata": {},
   "outputs": [],
   "source": [
    "#Perturb\n",
    "# Here, Perturb is chosen to be two successive tweaks(of rev_city). The heuristic in choosing this is that two successive tweaks\n",
    "# would probably provide a balance to escape the local hill, only onto the neighbouring hill\n",
    "\n",
    "#\"The goal of the Perturb function is to make a very large Tweak, big enough to likely escape the\n",
    "#current local optimum, but not so large as to be essentially a randomization\" - Essentials of Metaheuristics\n",
    "\n",
    "def perturb(tour):\n",
    "    tour = move_operator(tour)\n",
    "    tour = move_operator(tour)\n",
    "    #tour = init_function() # Poor results using this. may be because it's to the random extreme\n",
    "    tour_score = objective_function(tour)\n",
    "    return tour, tour_score"
   ]
  },
  {
   "cell_type": "markdown",
   "metadata": {},
   "source": [
    "## Iterated Local Search"
   ]
  },
  {
   "cell_type": "code",
   "execution_count": 68,
   "metadata": {},
   "outputs": [],
   "source": [
    "def ILS(init_function, move_operator, objective_function, min_eval_per_timeslot, desired_max_evaluations):\n",
    "    '''\n",
    "    Iterated Local Search\n",
    "    '''\n",
    "    # The function genertes Time slots, \n",
    "    #Totalevals_roundupTimeslots will be slightly > desired_max_evaluations since,\n",
    "    #we round up each slot to the higher decimal in Solution to Quadratic Equation phase\n",
    "    \n",
    "    timeslots_, Totalevals_roundupTimeslots = TimeSlots(min_eval_per_timeslot,desired_max_evaluations)\n",
    "    \n",
    "    \n",
    "    s = init_function()\n",
    "    s_score = objective_function(s)\n",
    "    \n",
    "    h = s\n",
    "    h_score = s_score\n",
    "    \n",
    "    best = s\n",
    "    best_score = s_score\n",
    "    \n",
    "    #timeslots_ is a list of random time slots (where each slot is of varying duration) and the total slots amounts to maxevaluations.\n",
    "    for timeslot in timeslots_ :\n",
    "        \n",
    "        for i in range(timeslot):\n",
    "            move_made = False\n",
    "            \n",
    "            r = move_operator(s)\n",
    "            r_score = objective_function(r)\n",
    "    \n",
    "            if r_score < s_score:\n",
    "                s = r\n",
    "                s_score = r_score\n",
    "                move_made = True\n",
    "        \n",
    "        if s_score < best_score:\n",
    "            best = s\n",
    "            best_score = s_score\n",
    "            print(\"BestScore\",best_score)\n",
    "            move_made = True\n",
    "        \n",
    "        h,h_score = NewHomeBase(h,h_score,s,s_score)\n",
    "        s, s_score = perturb(h) \n",
    "                \n",
    "    return (Totalevals_roundupTimeslots, best_score, best)"
   ]
  },
  {
   "cell_type": "code",
   "execution_count": 48,
   "metadata": {},
   "outputs": [],
   "source": [
    "from PIL import Image, ImageDraw, ImageFont\n",
    "\n",
    "def write_tour_to_img(coords, tour, title, img_file):\n",
    "    padding = 20\n",
    "    # shift all coords in a bit\n",
    "    coords = [(x+padding,y+padding) for (x,y) in coords]\n",
    "    maxx, maxy = 0,0\n",
    "    for x,y in coords:\n",
    "        maxx = max(x,maxx)\n",
    "        maxy = max(y,maxy)\n",
    "    maxx += padding\n",
    "    maxy += padding\n",
    "    img = Image.new(\"RGB\",(int(maxx), int(maxy)), color=(255,255,255))\n",
    "    \n",
    "    font=ImageFont.load_default()\n",
    "    d=ImageDraw.Draw(img);\n",
    "    num_cities = len(tour)\n",
    "    for i in range(num_cities):\n",
    "        j = (i+1) % num_cities\n",
    "        city_i = tour[i]\n",
    "        city_j = tour[j]\n",
    "        x1,y1 = coords[city_i]\n",
    "        x2,y2 = coords[city_j]\n",
    "        d.line((int(x1), int(y1), int(x2), int(y2)), fill=(0,0,0))\n",
    "        d.text((int(x1)+7, int(y1)-5), str(i), font=font, fill=(32,32,32))\n",
    "    \n",
    "    \n",
    "    for x,y in coords:\n",
    "        x,y = int(x), int(y)\n",
    "        d.ellipse((x-5, y-5, x+5, y+5), outline=(0,0,0), fill=(196,196,196))\n",
    "    \n",
    "    d.text((1,1), title, font=font, fill=(0,0,0))\n",
    "    \n",
    "    del d\n",
    "    img.save(img_file, \"PNG\")"
   ]
  },
  {
   "cell_type": "code",
   "execution_count": 49,
   "metadata": {},
   "outputs": [],
   "source": [
    "def reload_image_for_jupyter(filename):\n",
    "    # pick a random integer with 1 in 2 billion chance of getting the same\n",
    "    # integer twice\n",
    "    import random\n",
    "    __counter__ = random.randint(0,2e9)\n",
    "\n",
    "    # now use IPython's rich display to display the html image with the\n",
    "    # new argument\n",
    "    from IPython.display import HTML, display\n",
    "    display(HTML('<img src=\"./'+filename+'?%d\" alt=\"Schema of adaptive filter\" height=\"100\">' % __counter__))\n"
   ]
  },
  {
   "cell_type": "code",
   "execution_count": 50,
   "metadata": {},
   "outputs": [],
   "source": [
    "def do_ILS_evaluations(desired_max_evaluations , min_eval_per_timeslot, move_operator = rev_city):\n",
    "    then = datetime.datetime.now()\n",
    "    num_evaluations, best_score, best = ILS(init_function, move_operator, objective_function, min_eval_per_timeslot, desired_max_evaluations)\n",
    "    now = datetime.datetime.now()\n",
    "\n",
    "    print(\"computation time \", now - then)\n",
    "    print(\"best score:\", best_score)\n",
    "    print(\"best route:\", best)\n",
    "    filename = \"testILS\"+str(desired_max_evaluations)+\".PNG\"\n",
    "    write_tour_to_img(coords, best, filename, open(filename, \"ab\"))\n",
    "    reload_image_for_jupyter(filename)"
   ]
  },
  {
   "cell_type": "code",
   "execution_count": 51,
   "metadata": {},
   "outputs": [
    {
     "name": "stdout",
     "output_type": "stream",
     "text": [
      "Check\n"
     ]
    }
   ],
   "source": [
    "print(\"Check\")"
   ]
  },
  {
   "cell_type": "code",
   "execution_count": 63,
   "metadata": {},
   "outputs": [
    {
     "name": "stdout",
     "output_type": "stream",
     "text": [
      "BestScore 9878.970795164412\n",
      "BestScore 4234.786106486358\n",
      "BestScore 4209.606017206688\n",
      "BestScore 4129.691682559481\n",
      "BestScore 4092.537843207863\n",
      "BestScore 4091.329886168242\n",
      "BestScore 3941.5520451818334\n",
      "computation time  0:00:50.403294\n",
      "best score: 3941.5520451818334\n",
      "best route: [28, 4, 2, 12, 93, 6, 45, 37, 58, 72, 95, 76, 55, 94, 32, 15, 53, 71, 47, 52, 11, 13, 64, 62, 75, 80, 85, 83, 49, 74, 8, 14, 43, 38, 23, 63, 41, 61, 26, 78, 1, 90, 97, 51, 48, 65, 84, 3, 54, 16, 36, 18, 22, 67, 88, 34, 21, 10, 96, 19, 31, 79, 20, 99, 50, 30, 9, 73, 86, 56, 39, 35, 0, 68, 5, 92, 66, 44, 77, 69, 60, 87, 82, 59, 57, 7, 81, 33, 46, 70, 24, 89, 29, 17, 27, 91, 40, 98, 25, 42]\n"
     ]
    },
    {
     "data": {
      "text/html": [
       "<img src=\"./testILS500000.PNG?898464196\" alt=\"Schema of adaptive filter\" height=\"100\">"
      ],
      "text/plain": [
       "<IPython.core.display.HTML object>"
      ]
     },
     "metadata": {},
     "output_type": "display_data"
    }
   ],
   "source": [
    "move_operator = rev_city\n",
    "min_eval_per_timeslot = 1000\n",
    "desired_max_evaluations = 500000 #1000000\n",
    "do_ILS_evaluations(desired_max_evaluations, min_eval_per_timeslot, move_operator)\n",
    "\n",
    "# Avg score is around 4050 and takes ~ 50s for 500000 evaluations"
   ]
  },
  {
   "cell_type": "code",
   "execution_count": null,
   "metadata": {},
   "outputs": [],
   "source": []
  }
 ],
 "metadata": {
  "kernelspec": {
   "display_name": "Python 3",
   "language": "python",
   "name": "python3"
  },
  "language_info": {
   "codemirror_mode": {
    "name": "ipython",
    "version": 3
   },
   "file_extension": ".py",
   "mimetype": "text/x-python",
   "name": "python",
   "nbconvert_exporter": "python",
   "pygments_lexer": "ipython3",
   "version": "3.6.7"
  }
 },
 "nbformat": 4,
 "nbformat_minor": 2
}
