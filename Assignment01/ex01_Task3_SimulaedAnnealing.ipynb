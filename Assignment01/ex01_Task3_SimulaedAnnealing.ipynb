{
 "cells": [
  {
   "cell_type": "markdown",
   "metadata": {},
   "source": [
    "# Search Based Software Engineering\n",
    "## Exercise 01 , Task3 -  Simulated Annealing on Traveling Salesman Problem\n",
    "### Team: \n",
    "### 1. Sagar Nagaraj Simha - sagar.nagaraj.simha[at]uni-weimar.de\n",
    "####     Matrikel Nummer - 120797, Degree - Master's Computer Science for Digital Media\n",
    "### 2. Mohd Saif Khan - mohd.saif.khan[at]uni-weimar.de \n",
    "####     Matrikel Nummer - 120803, Degree - Master's Human Computer Interaction"
   ]
  },
  {
   "cell_type": "markdown",
   "metadata": {},
   "source": [
    "The Traveling Salesman Problem (TSP) is given by the following question: *“Given is a list of cities and distances between each pair of cities - what is the shortest route that visits each city and returns to the original city?”*\n",
    "\n",
    "The TSP is an **NP-Hard-Problem** which does not mean an instance of the  problem will be hard to solve. It means, there does not exist an algorithm that produces the best solution in polynomial time. We can not make predictions about how long it might take to find the best solution.\n",
    "\n",
    "But, we can find a good solution which might not be the best solution. It is ok to find a route amongst 1000 cities that is only few miles longer than the best route. Particularly, if it would take an inordinate amount amount of computing time to get from our good solution to the best solution."
   ]
  },
  {
   "cell_type": "markdown",
   "metadata": {},
   "source": [
    "![germany TSP](./TSP_Deutschland_3.png)"
   ]
  },
  {
   "cell_type": "markdown",
   "metadata": {},
   "source": [
    "## Representation of the Problem"
   ]
  },
  {
   "cell_type": "markdown",
   "metadata": {},
   "source": [
    "<img src=\"./Graph_TSP.png\" align=\"left\">\n",
    "A TSP can be modelled as an undirected weighted graph:\n",
    "        - cities = vertices\n",
    "        - paths between cities = edges\n",
    "        - distance of a path = weight of an edge\n",
    "<!--![graph](./Graph_TSP.png)-->"
   ]
  },
  {
   "cell_type": "markdown",
   "metadata": {},
   "source": [
    "This graph can be represented as an **Adjacency matrix**:\n",
    "\n",
    "\n",
    "|  \\     | A     | B     | C     | D     |\n",
    "| :---:  | :---: | :---: | :---: | :---: |\n",
    "| **A**  |  0    | 20    | 42    | 35    |\n",
    "| **B**  | 20    | 0     | 30    | 34    |\n",
    "| **C**  | 42    | 30    | 0     | 12    |\n",
    "| **D**  | 35    | 34    | 12    | 0     |"
   ]
  },
  {
   "cell_type": "markdown",
   "metadata": {},
   "source": [
    "But how do we get the distances between cities if we only got the coordinates for each city?"
   ]
  },
  {
   "cell_type": "markdown",
   "metadata": {},
   "source": [
    "Each city is represented by a cartesian koordinate P\n",
    "\n",
    "$ P = (p_x, p_y) $"
   ]
  },
  {
   "cell_type": "markdown",
   "metadata": {},
   "source": [
    "### Euclidean Distance"
   ]
  },
  {
   "cell_type": "markdown",
   "metadata": {},
   "source": [
    "Euclidean distance between two points P<sub>1</sub> = (x<sub>1</sub>, y<sub>1</sub>) and P<sub>2</sub> = (x<sub>2</sub>, y<sub>2</sub>) is:\n",
    "\n",
    "$d(P_{1},P_{2}) = \\sqrt{(x_{1} - x_{2})^2 + (y_{1} - y_{2})^2}$"
   ]
  },
  {
   "cell_type": "code",
   "execution_count": 2,
   "metadata": {},
   "outputs": [],
   "source": [
    "from itertools import permutations\n",
    "import datetime"
   ]
  },
  {
   "cell_type": "code",
   "execution_count": 3,
   "metadata": {},
   "outputs": [],
   "source": [
    "def distance(p1, p2):\n",
    "    \"\"\"\n",
    "    Returns the Euclidean distance of two points in the Cartesian Plane.\n",
    "\n",
    "    >>> distance([3,4],[0,0])\n",
    "    5.0\n",
    "    \n",
    "    \"\"\"\n",
    "    return ((p1[0] - p2[0])**2 + (p1[1] - p2[1])**2) ** 0.5"
   ]
  },
  {
   "cell_type": "code",
   "execution_count": 4,
   "metadata": {},
   "outputs": [],
   "source": [
    "def total_distance(points):\n",
    "    \"\"\"\n",
    "    Returns the length of the path passing throught\n",
    "    all the points in the given order.\n",
    "\n",
    "    >>> total_distance([[1,2],[4,6]])\n",
    "    5.0\n",
    "    >>> total_distance([[3,6],[7,6],[12,6]])\n",
    "    9.0\n",
    "    \"\"\"\n",
    "    return sum([distance(point, points[index + 1]) for index, point in enumerate(points[:-1])])"
   ]
  },
  {
   "cell_type": "markdown",
   "metadata": {},
   "source": [
    "#### Adjacency Matrix"
   ]
  },
  {
   "cell_type": "markdown",
   "metadata": {},
   "source": [
    "We also need to specify a \"distance matrix\" that we can use to keep track of distances between cities. To generate a distance matrix for a set of (x,y) coordinates we will use the following function:"
   ]
  },
  {
   "cell_type": "code",
   "execution_count": 5,
   "metadata": {},
   "outputs": [],
   "source": [
    "def cartesian_matrix(coordinates):\n",
    "    '''\n",
    "    Creates a distance matrix for the city coords using straight line distances\n",
    "    computed by the Euclidean distance of two points in the Cartesian Plane.\n",
    "    '''\n",
    "    matrix = {}\n",
    "    for i, p1 in enumerate(coordinates):\n",
    "        for j, p2 in enumerate(coordinates):\n",
    "            matrix[i,j] = distance(p1,p2)\n",
    "    return matrix"
   ]
  },
  {
   "cell_type": "markdown",
   "metadata": {},
   "source": [
    "This function takes a list of (x,y) tuples and outputs a dictionary that contains the distance between any pair of cities:"
   ]
  },
  {
   "cell_type": "code",
   "execution_count": 6,
   "metadata": {},
   "outputs": [
    {
     "name": "stdout",
     "output_type": "stream",
     "text": [
      "(0, 0) 0.0\n",
      "(0, 1) 1.0\n",
      "(0, 2) 1.4142135623730951\n",
      "(1, 0) 1.0\n",
      "(1, 1) 0.0\n",
      "(1, 2) 1.0\n",
      "(2, 0) 1.4142135623730951\n",
      "(2, 1) 1.0\n",
      "(2, 2) 0.0\n",
      "\n",
      "1.4142135623730951\n"
     ]
    }
   ],
   "source": [
    "m = cartesian_matrix([(0,0), (1,0), (1,1)])\n",
    "for k, v in m.items():\n",
    "    print(k, v)\n",
    "print()\n",
    "print(m[2,0])"
   ]
  },
  {
   "cell_type": "markdown",
   "metadata": {},
   "source": [
    "\\[2,0\\] gives the distance between the city with number 2 and the city with  number 0.\n",
    "In our case the result of \\[2,0\\] is the same for \\[0,2\\], but for other TSPs this may not be the case (for example if a street between two cities is only one way - we have to take another route)"
   ]
  },
  {
   "cell_type": "markdown",
   "metadata": {},
   "source": [
    "#### Read City Coordinates from File"
   ]
  },
  {
   "cell_type": "code",
   "execution_count": 7,
   "metadata": {},
   "outputs": [],
   "source": [
    "def read_coords(file_handle):\n",
    "    coords = []\n",
    "    for line in file_handle:\n",
    "        x,y = line.strip().split(',')\n",
    "        coords.append((float(x), float(y)))\n",
    "    return coords\n",
    "\n",
    "with open('city100.txt', 'r') as coord_file:\n",
    "    coords = read_coords(coord_file)\n",
    "matrix = cartesian_matrix(coords)"
   ]
  },
  {
   "cell_type": "markdown",
   "metadata": {},
   "source": [
    "On real world problems it may be more complicated to generate a distance matrix - you might need to take a map and calculate the real distances between cities."
   ]
  },
  {
   "cell_type": "markdown",
   "metadata": {},
   "source": [
    "#### Compute the Total Distance"
   ]
  },
  {
   "cell_type": "code",
   "execution_count": 8,
   "metadata": {},
   "outputs": [],
   "source": [
    "def tour_length(matrix, tour):\n",
    "    \"\"\"Sum up the total length of the tour based on the distance matrix\"\"\"\n",
    "    result = 0\n",
    "    num_cities = len(list(tour))\n",
    "    for i in range(num_cities):\n",
    "        j = (i+1) % num_cities\n",
    "        city_i = tour[i]\n",
    "        city_j = tour[j]\n",
    "        result += matrix[city_i, city_j]\n",
    "    return result"
   ]
  },
  {
   "cell_type": "markdown",
   "metadata": {},
   "source": [
    "#### Implementing Tweak Operators"
   ]
  },
  {
   "cell_type": "markdown",
   "metadata": {},
   "source": [
    "We will implement the two tweak operators as generator functions that will return all possible versions of a route that can be made in one step of the generator (in a random order)."
   ]
  },
  {
   "cell_type": "markdown",
   "metadata": {},
   "source": [
    "Generators are iterators which can be only iterated once.\n",
    "They generate values on the fly and do not store them in memory.\n",
    "By using a generator function, we can get each possiblility and perhaps decide to not generate any more variations.\n",
    "This saves the overhead of generating all combinations at once."
   ]
  },
  {
   "cell_type": "code",
   "execution_count": 9,
   "metadata": {},
   "outputs": [],
   "source": [
    "import random\n",
    "\n",
    "def all_pairs(size, shuffle = random.shuffle):\n",
    "    r1 = list(range(size))\n",
    "    r2 = list(range(size))\n",
    "    if shuffle:\n",
    "        shuffle(r1)\n",
    "        shuffle(r2)\n",
    "    for i in r1:\n",
    "        for j in r2:\n",
    "            yield(i,j) # yield is an iterator function\n",
    "            # for each call of the generator it returns the next value in yield"
   ]
  },
  {
   "cell_type": "code",
   "execution_count": 10,
   "metadata": {
    "scrolled": true
   },
   "outputs": [
    {
     "name": "stdout",
     "output_type": "stream",
     "text": [
      "start tour swap: [1, 2, 3, 4]\n",
      "[1, 3, 2, 4]\n",
      "[1, 4, 3, 2]\n",
      "[1, 2, 4, 3]\n",
      "[3, 2, 1, 4]\n",
      "[4, 2, 3, 1]\n",
      "[2, 1, 3, 4]\n",
      "\n",
      "start tour reverse section: [1, 2, 3, 4]\n",
      "[4, 3, 1, 2]\n",
      "[1, 3, 2, 4]\n",
      "[1, 4, 3, 2]\n",
      "[4, 1, 2, 3]\n",
      "[1, 2, 4, 3]\n",
      "[4, 2, 3, 1]\n",
      "[3, 2, 1, 4]\n",
      "[4, 3, 2, 1]\n",
      "[2, 1, 3, 4]\n",
      "[3, 4, 2, 1]\n",
      "[2, 3, 4, 1]\n"
     ]
    }
   ],
   "source": [
    "from copy import deepcopy\n",
    "\n",
    "# Tweak 1\n",
    "def swapped_cities(tour):\n",
    "    \"\"\"\n",
    "    Generator to create all possible variations where two \n",
    "    cities have been swapped\n",
    "    \"\"\"\n",
    "    ap = all_pairs(len(tour))\n",
    "    for i,j in ap:\n",
    "        if i < j:\n",
    "            copy = deepcopy(tour)\n",
    "            copy[i], copy[j] = tour[j], tour[i]\n",
    "            yield copy\n",
    "\n",
    "# Tweak 2\n",
    "def reversed_sections(tour):\n",
    "    \"\"\"\n",
    "    Generator to return all possible variations where the\n",
    "    section between two cities are swapped.\n",
    "    It preserves entire sections of a route,\n",
    "    yet still affects the ordering of multiple cities in one go.\n",
    "    \"\"\"\n",
    "    ap = all_pairs(len(tour))\n",
    "    for i,j in ap:\n",
    "        if i != j:\n",
    "            #print(\"indices from:\",i, \"to\", j)\n",
    "            copy = deepcopy(tour)\n",
    "            if i < j:\n",
    "                copy[i:j+1] = reversed(tour[i:j+1])\n",
    "            else:\n",
    "                copy[i+1:] = reversed(tour[:j])\n",
    "                copy[:j] = reversed(tour[i+1:])\n",
    "            if copy != tour: # not returning same tour\n",
    "                yield copy\n",
    "# usage\n",
    "print(\"start tour swap:\",[1,2,3,4])\n",
    "for tour in swapped_cities([1,2,3,4]):\n",
    "    print(tour)\n",
    "print()\n",
    "print(\"start tour reverse section:\",[1,2,3,4])\n",
    "for tour in reversed_sections([1,2,3,4]):\n",
    "    print(tour)"
   ]
  },
  {
   "cell_type": "code",
   "execution_count": 11,
   "metadata": {},
   "outputs": [],
   "source": [
    "# New Tweak Operator - rev_city()"
   ]
  },
  {
   "cell_type": "code",
   "execution_count": 12,
   "metadata": {},
   "outputs": [],
   "source": [
    "import random\n",
    "import copy\n",
    "\n",
    "def rev_city(tour):\n",
    "    new_tour = copy.deepcopy(tour)\n",
    "    i = random.randint(0,len(tour))\n",
    "    j = random.randint(0,len(tour))\n",
    "    if(i!=j):\n",
    "        new_tour[min(i,j) : max(i,j)] = tour[min(i,j) : max(i,j)][::-1]\n",
    "    return new_tour"
   ]
  },
  {
   "cell_type": "code",
   "execution_count": 13,
   "metadata": {},
   "outputs": [
    {
     "name": "stdout",
     "output_type": "stream",
     "text": [
      "[0, 1, 2, 3, 4, 5, 6, 7, 8, 9, 10, 11, 12, 13, 14, 15, 16, 17, 18, 19]\n",
      "[19, 18, 17, 16, 15, 14, 13, 12, 11, 10, 9, 8, 7, 6, 5, 4, 3, 2, 1, 0]\n"
     ]
    }
   ],
   "source": [
    "#Example\n",
    "tour = [i for i in range(20)]\n",
    "print(tour)\n",
    "print(tour[::-1])"
   ]
  },
  {
   "cell_type": "code",
   "execution_count": 14,
   "metadata": {},
   "outputs": [
    {
     "name": "stdout",
     "output_type": "stream",
     "text": [
      "[0, 1, 2, 3, 4, 5, 6, 7, 8, 9, 10, 11, 12, 13, 14, 15, 16, 17, 18, 19]\n"
     ]
    }
   ],
   "source": [
    "#Example\n",
    "test = rev_city(tour)\n",
    "print(test)"
   ]
  },
  {
   "cell_type": "code",
   "execution_count": 15,
   "metadata": {},
   "outputs": [],
   "source": [
    "def init_random_tour(tour_length):\n",
    "    tour = list(range(tour_length))\n",
    "    random.shuffle(list(tour))\n",
    "    return tour\n",
    "\n",
    "init_function = lambda: init_random_tour(len(coords))\n",
    "objective_function = lambda tour: tour_length(matrix, tour)"
   ]
  },
  {
   "cell_type": "code",
   "execution_count": 16,
   "metadata": {},
   "outputs": [],
   "source": [
    "# The temperature function\n",
    "from math import exp\n",
    "import random\n",
    "def temperatureDifference(temperature,next_score,Sbest_score):\n",
    "    temperature_probability=exp(-abs(Sbest_score-next_score)/temperature) \n",
    "    \n",
    "    if random.random()<temperature_probability:\n",
    "        return True\n",
    "    else:\n",
    "        return False"
   ]
  },
  {
   "cell_type": "code",
   "execution_count": 17,
   "metadata": {},
   "outputs": [],
   "source": [
    "def simulatedAnnealing(init_function, move_operator, objective_function, max_evaluations,temperature,alpha):\n",
    "    '''\n",
    "    Simulated Annealing\n",
    "    '''\n",
    "    Sbest = init_function()\n",
    "    Sbest_score = objective_function(Sbest)\n",
    "    best=Sbest\n",
    "    best_score=Sbest_score\n",
    "    \n",
    "    num_evaluations = 1\n",
    "    \n",
    "    while num_evaluations < max_evaluations:\n",
    "        \n",
    "        next = move_operator(Sbest)\n",
    "        \n",
    "        next_score = objective_function(next)\n",
    "        \n",
    "        num_evaluations += 1\n",
    "        if (next_score < Sbest_score) or temperatureDifference(temperature,next_score,Sbest_score):\n",
    "            Sbest = next\n",
    "            Sbest_score = next_score\n",
    "        \n",
    "        temperature=temperature*alpha\n",
    "        \n",
    "        if Sbest_score<best_score:\n",
    "            best=Sbest\n",
    "            best_score=Sbest_score\n",
    "            \n",
    "    return (num_evaluations, best_score, best)"
   ]
  },
  {
   "cell_type": "code",
   "execution_count": 18,
   "metadata": {},
   "outputs": [],
   "source": [
    "from PIL import Image, ImageDraw, ImageFont\n",
    "\n",
    "def write_tour_to_img(coords, tour, title, img_file):\n",
    "    padding = 20\n",
    "    # shift all coords in a bit\n",
    "    coords = [(x+padding,y+padding) for (x,y) in coords]\n",
    "    maxx, maxy = 0,0\n",
    "    for x,y in coords:\n",
    "        maxx = max(x,maxx)\n",
    "        maxy = max(y,maxy)\n",
    "    maxx += padding\n",
    "    maxy += padding\n",
    "    img = Image.new(\"RGB\",(int(maxx), int(maxy)), color=(255,255,255))\n",
    "    \n",
    "    font=ImageFont.load_default()\n",
    "    d=ImageDraw.Draw(img);\n",
    "    num_cities = len(tour)\n",
    "    for i in range(num_cities):\n",
    "        j = (i+1) % num_cities\n",
    "        city_i = tour[i]\n",
    "        city_j = tour[j]\n",
    "        x1,y1 = coords[city_i]\n",
    "        x2,y2 = coords[city_j]\n",
    "        d.line((int(x1), int(y1), int(x2), int(y2)), fill=(0,0,0))\n",
    "        d.text((int(x1)+7, int(y1)-5), str(i), font=font, fill=(32,32,32))\n",
    "    \n",
    "    \n",
    "    for x,y in coords:\n",
    "        x,y = int(x), int(y)\n",
    "        d.ellipse((x-5, y-5, x+5, y+5), outline=(0,0,0), fill=(196,196,196))\n",
    "    \n",
    "    d.text((1,1), title, font=font, fill=(0,0,0))\n",
    "    \n",
    "    del d\n",
    "    img.save(img_file, \"PNG\")"
   ]
  },
  {
   "cell_type": "code",
   "execution_count": 19,
   "metadata": {},
   "outputs": [],
   "source": [
    "def reload_image_for_jupyter(filename):\n",
    "    # pick a random integer with 1 in 2 billion chance of getting the same\n",
    "    # integer twice\n",
    "    import random\n",
    "    __counter__ = random.randint(0,2e9)\n",
    "\n",
    "    # now use IPython's rich display to display the html image with the\n",
    "    # new argument\n",
    "    from IPython.display import HTML, display\n",
    "    display(HTML('<img src=\"./'+filename+'?%d\" alt=\"Schema of adaptive filter\" height=\"100\">' % __counter__))\n"
   ]
  },
  {
   "cell_type": "code",
   "execution_count": 20,
   "metadata": {},
   "outputs": [],
   "source": [
    "def do_simanneal_evaluations(evaluations,temperature,alpha,move_operator = swapped_cities):\n",
    "    max_evaluations = evaluations\n",
    "    then = datetime.datetime.now()\n",
    "    num_evaluations, best_score, best = simulatedAnnealing(init_function, move_operator, objective_function, max_evaluations,temperature,alpha)\n",
    "    now = datetime.datetime.now()\n",
    "\n",
    "    print(\"computation time \", now - then)\n",
    "    print(\"best score:\", best_score)\n",
    "    print(\"best route:\", best)\n",
    "    filename = \"testSimAnn\"+str(max_evaluations)+\".PNG\"\n",
    "    write_tour_to_img(coords, best, filename, open(filename, \"ab\"))\n",
    "    reload_image_for_jupyter(filename)"
   ]
  },
  {
   "cell_type": "code",
   "execution_count": 24,
   "metadata": {},
   "outputs": [
    {
     "name": "stdout",
     "output_type": "stream",
     "text": [
      "Check\n"
     ]
    }
   ],
   "source": [
    "print(\"Check\")"
   ]
  },
  {
   "cell_type": "code",
   "execution_count": 25,
   "metadata": {},
   "outputs": [
    {
     "name": "stdout",
     "output_type": "stream",
     "text": [
      "computation time  0:00:04.801525\n",
      "best score: 4129.584444739712\n",
      "best route: [4, 42, 2, 12, 93, 6, 45, 37, 58, 72, 95, 76, 55, 94, 32, 15, 53, 71, 47, 65, 48, 51, 3, 84, 54, 16, 36, 22, 67, 88, 18, 34, 21, 10, 96, 30, 9, 73, 86, 56, 39, 35, 0, 68, 5, 92, 50, 99, 66, 44, 77, 69, 60, 82, 87, 81, 33, 46, 70, 24, 89, 29, 17, 27, 91, 40, 98, 25, 7, 57, 59, 79, 20, 31, 19, 14, 8, 74, 83, 49, 43, 38, 23, 63, 1, 41, 61, 26, 78, 90, 97, 52, 11, 13, 64, 62, 75, 80, 85, 28]\n"
     ]
    },
    {
     "data": {
      "text/html": [
       "<img src=\"./testSimAnn50000.PNG?606636053\" alt=\"Schema of adaptive filter\" height=\"100\">"
      ],
      "text/plain": [
       "<IPython.core.display.HTML object>"
      ]
     },
     "metadata": {},
     "output_type": "display_data"
    }
   ],
   "source": [
    "move_operator = rev_city\n",
    "max_evaluations = 50000\n",
    "temperature = 30000\n",
    "alpha=0.995\n",
    "do_simanneal_evaluations(max_evaluations,temperature,alpha,move_operator)"
   ]
  },
  {
   "cell_type": "code",
   "execution_count": 26,
   "metadata": {},
   "outputs": [
    {
     "name": "stdout",
     "output_type": "stream",
     "text": [
      "computation time  0:00:09.940067\n",
      "best score: 4283.227253269815\n",
      "best route: [45, 6, 37, 58, 72, 95, 76, 55, 94, 32, 15, 71, 53, 13, 11, 52, 47, 65, 48, 84, 54, 16, 36, 61, 41, 26, 78, 3, 51, 97, 90, 1, 63, 23, 38, 14, 19, 31, 50, 9, 30, 10, 96, 88, 67, 22, 18, 34, 21, 73, 86, 56, 39, 35, 0, 68, 5, 92, 66, 44, 77, 99, 20, 79, 59, 82, 69, 60, 87, 33, 24, 70, 27, 17, 29, 89, 91, 40, 98, 46, 81, 7, 57, 8, 43, 49, 74, 83, 80, 85, 28, 4, 42, 25, 2, 93, 12, 75, 62, 64]\n"
     ]
    },
    {
     "data": {
      "text/html": [
       "<img src=\"./testSimAnn100000.PNG?1968430458\" alt=\"Schema of adaptive filter\" height=\"100\">"
      ],
      "text/plain": [
       "<IPython.core.display.HTML object>"
      ]
     },
     "metadata": {},
     "output_type": "display_data"
    }
   ],
   "source": [
    "move_operator = rev_city\n",
    "max_evaluations = 100000\n",
    "temperature = 30000\n",
    "alpha=0.95\n",
    "do_simanneal_evaluations(max_evaluations,temperature,alpha,move_operator)"
   ]
  }
 ],
 "metadata": {
  "kernelspec": {
   "display_name": "Python 3",
   "language": "python",
   "name": "python3"
  },
  "language_info": {
   "codemirror_mode": {
    "name": "ipython",
    "version": 3
   },
   "file_extension": ".py",
   "mimetype": "text/x-python",
   "name": "python",
   "nbconvert_exporter": "python",
   "pygments_lexer": "ipython3",
   "version": "3.6.7"
  }
 },
 "nbformat": 4,
 "nbformat_minor": 2
}
